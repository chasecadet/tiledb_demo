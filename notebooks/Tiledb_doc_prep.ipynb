{
 "cells": [
  {
   "cell_type": "code",
   "execution_count": 15,
   "id": "f35f0324-b068-41f6-86d7-0aae90c3e9a6",
   "metadata": {
    "tags": []
   },
   "outputs": [],
   "source": [
    "import os\n",
    "from minio import Minio\n",
    "import requests"
   ]
  },
  {
   "cell_type": "code",
   "execution_count": null,
   "id": "65a9f4c2-66e8-4681-a55a-eb3594cb295f",
   "metadata": {},
   "outputs": [],
   "source": [
    "client = Minio(\"minio-service.kubeflow.svc.cluster.local:9000\",\n",
    "    access_key=\"minio\",\n",
    "    secret_key=\"minio123\",\n",
    "    secure=False,           \n",
    ")"
   ]
  },
  {
   "cell_type": "code",
   "execution_count": null,
   "id": "dd65419c-d9eb-4e3b-8290-c388cba5252b",
   "metadata": {
    "tags": []
   },
   "outputs": [],
   "source": [
    "type(client)"
   ]
  },
  {
   "cell_type": "code",
   "execution_count": null,
   "id": "490acd9d-ad92-4d55-800d-c0ffa8697da3",
   "metadata": {
    "tags": []
   },
   "outputs": [],
   "source": [
    "bucket_name = \"newtiledb\""
   ]
  },
  {
   "cell_type": "code",
   "execution_count": null,
   "id": "7c9a9322-825d-4881-8f87-4868fbdcbb5c",
   "metadata": {
    "tags": []
   },
   "outputs": [],
   "source": [
    "def upload_files(bucket_name, file_location, client):\n",
    "    found = False  # Initialize 'found' before the try block\n",
    "    try:\n",
    "        found = client.bucket_exists(bucket_name)\n",
    "    except Exception as e:\n",
    "        print(\"error trying to search for MinIO Bucket:\", e)\n",
    "        return  # Return early since we cannot proceed without knowing if the bucket exists\n",
    "\n",
    "    if not found:\n",
    "        try:\n",
    "            client.make_bucket(bucket_name)\n",
    "            print(\"Created bucket\", bucket_name)\n",
    "        except Exception as e:\n",
    "            print(\"Failed to create bucket:\", e)\n",
    "            return  # Return early since we cannot proceed if the bucket cannot be created\n",
    "    else:\n",
    "        print(\"Bucket\", bucket_name, \"exists, we won't attempt to create one\")\n",
    "        \n",
    "    # Ensure the directory exists\n",
    "    if not os.path.isdir(file_location):\n",
    "        print(f\"The directory {file_location} does not exist.\")\n",
    "        return\n",
    "\n",
    "    # Iterate through all files in the directory\n",
    "    for file_name in os.listdir(file_location):\n",
    "        # Construct the full file path\n",
    "        source_file = os.path.join(file_location, file_name)\n",
    "        # Check if it's a file and not a directory\n",
    "        if os.path.isfile(source_file):\n",
    "            try:\n",
    "                # Upload the file\n",
    "                client.fput_object(bucket_name, file_name, source_file)\n",
    "                print(f\"Successfully uploaded {file_name} to bucket {bucket_name}.\")\n",
    "            except Exception as e:\n",
    "                print(f\"Failed to upload {file_name}: {e}\")\n"
   ]
  },
  {
   "cell_type": "code",
   "execution_count": null,
   "id": "096fceeb-e788-463f-88c2-274457020b3b",
   "metadata": {
    "tags": []
   },
   "outputs": [],
   "source": [
    "upload_files(bucket_name,\"documentation\",client)"
   ]
  },
  {
   "cell_type": "code",
   "execution_count": null,
   "id": "d8fd4896-dead-40a2-977b-1db044cb7ec0",
   "metadata": {},
   "outputs": [],
   "source": []
  },
  {
   "cell_type": "code",
   "execution_count": 25,
   "id": "8e5db8c5-b83c-493b-af9a-f85eacd4a034",
   "metadata": {
    "tags": []
   },
   "outputs": [
    {
     "name": "stdout",
     "output_type": "stream",
     "text": [
      "<Response [200]>\n",
      "{'predictions': ['Vector databases are specialized storage systems designed to efficiently store and query high-dimensional vector data, often used in machine learning, artificial intelligence, and similarity search applications. This section introduces the concept of vector databases, their importance in enabling fast and scalable vector similarity searches, and typical use cases such as image and text retrieval, and recommendation systems.\\n2. Getting Started with Vector Databases', 'Vector Databases Documentation\\n1. Introduction to Vector Databases', 'This guide provides a step-by-step introduction to working with vector databases, including setting up your first vector database, inserting and indexing vector data, and performing similarity searches. Through practical examples, learn the basics of vector storage, querying techniques, and how to integrate vector databases into your data pipeline.\\n3. Vector Database Architecture and Indexing Techniques', 'Understand the underlying architecture of vector databases and the indexing techniques they use to enable efficient similarity searches. This section dives into the algorithms and data structures, such as k-NN graph and HNSW (Hierarchical Navigable Small World), that power vector databases, explaining how they work and their trade-offs.\\n4. Advanced Querying and Analytics with Vector Databases']}\n",
      "{\"predictions\":[\"Vector databases are specialized storage systems designed to efficiently store and query high-dimensional vector data, often used in machine learning, artificial intelligence, and similarity search applications. This section introduces the concept of vector databases, their importance in enabling fast and scalable vector similarity searches, and typical use cases such as image and text retrieval, and recommendation systems.\\n2. Getting Started with Vector Databases\",\"Vector Databases Documentation\\n1. Introduction to Vector Databases\",\"This guide provides a step-by-step introduction to working with vector databases, including setting up your first vector database, inserting and indexing vector data, and performing similarity searches. Through practical examples, learn the basics of vector storage, querying techniques, and how to integrate vector databases into your data pipeline.\\n3. Vector Database Architecture and Indexing Techniques\",\"Understand the underlying architecture of vector databases and the indexing techniques they use to enable efficient similarity searches. This section dives into the algorithms and data structures, such as k-NN graph and HNSW (Hierarchical Navigable Small World), that power vector databases, explaining how they work and their trade-offs.\\n4. Advanced Querying and Analytics with Vector Databases\"]}\n"
     ]
    }
   ],
   "source": [
    "data = {\n",
    "  \"instances\": [{\n",
    "    \"input\": \"what are vectors\",\n",
    "    \"num_docs\": 4  # number of documents to retrieve\n",
    "  }]\n",
    "}\n",
    "\n",
    "URL = \"http://vectorstore-predictor.christensenc3526.svc.cluster.local/v1/models/vectorstore:predict\"  # Adjust path as necessary\n",
    "\n",
    "response = requests.post(URL, json=data, verify=False)  # 'verify=False' for self-signed certs\n",
    "print(response)\n",
    "print(response.json())\n",
    "print(response.text)"
   ]
  },
  {
   "cell_type": "code",
   "execution_count": 44,
   "id": "0ceb5821-adec-4804-b029-62f6000ef01c",
   "metadata": {
    "tags": []
   },
   "outputs": [],
   "source": [
    "URL = URL = \"http://llm-transformer.christensenc3526.svc.cluster.local/v1/models/llm:predict\""
   ]
  },
  {
   "cell_type": "code",
   "execution_count": null,
   "id": "e2560e8f-1d9f-4016-8b97-d1d226a1bce9",
   "metadata": {
    "tags": []
   },
   "outputs": [],
   "source": [
    "data = {\n",
    "  \"instances\": [{\n",
    "      \"system\": \"You are an AI assistant. You will be given a task. You must generate a detailed answer.\",\n",
    "      \"instruction\": \"Use the following pieces of context to answer the question at the end. If you don't know the answer, just say that you don't know, don't try to make up an answer.\",\n",
    "      \"input\": \"Is TileDB a good vector store?\",\n",
    "      \"max_tokens\": 50,\n",
    "      \"top_k\": 100,\n",
    "      \"top_p\": 0.4,\n",
    "      \"num_docs\": 1,\n",
    "      \"temperature\": 0.2\n",
    "  }]\n",
    "}\n",
    "response = requests.post(URL, json=data,verify=False)"
   ]
  },
  {
   "cell_type": "code",
   "execution_count": null,
   "id": "eb3fc990-6a89-4fe6-b4bb-772c0015723a",
   "metadata": {
    "tags": []
   },
   "outputs": [],
   "source": [
    "print(response)\n",
    "#print(response.json())\n",
    "print(response.text)"
   ]
  },
  {
   "cell_type": "code",
   "execution_count": null,
   "id": "f65b0d34-eeb4-44d3-be3e-98d033db8a58",
   "metadata": {},
   "outputs": [],
   "source": []
  }
 ],
 "metadata": {
  "kernelspec": {
   "display_name": "Python 3 (ipykernel)",
   "language": "python",
   "name": "python3"
  },
  "language_info": {
   "codemirror_mode": {
    "name": "ipython",
    "version": 3
   },
   "file_extension": ".py",
   "mimetype": "text/x-python",
   "name": "python",
   "nbconvert_exporter": "python",
   "pygments_lexer": "ipython3",
   "version": "3.11.6"
  }
 },
 "nbformat": 4,
 "nbformat_minor": 5
}
