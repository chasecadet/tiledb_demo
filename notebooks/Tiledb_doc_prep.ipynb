{
 "cells": [
  {
   "cell_type": "code",
   "execution_count": null,
   "id": "f35f0324-b068-41f6-86d7-0aae90c3e9a6",
   "metadata": {
    "tags": []
   },
   "outputs": [],
   "source": [
    "import numpy as np\n",
    "import os\n",
    "import shutil\n",
    "import time\n",
    "import glob\n",
    "import os\n",
    "import base64\n",
    "import subprocess\n",
    "from tqdm import tqdm\n",
    "from langchain.document_loaders import TextLoader\n",
    "from langchain.embeddings import HuggingFaceEmbeddings\n",
    "from langchain.text_splitter import RecursiveCharacterTextSplitter\n",
    "from langchain.chains import ConversationalRetrievalChain, ConversationChain\n",
    "from langchain.chat_models import ChatOpenAI\n",
    "from langchain.embeddings import OpenAIEmbeddings\n",
    "from langchain.document_loaders.generic import GenericLoader\n",
    "from langchain.document_loaders.parsers.txt import TextParser\n",
    "from langchain.memory import VectorStoreRetrieverMemory\n",
    "from langchain.prompts import PromptTemplate\n",
    "from langchain.text_splitter import Language, RecursiveCharacterTextSplitter\n",
    "from langchain.vectorstores.tiledb import TileDB\n",
    "from minio import Minio"
   ]
  },
  {
   "cell_type": "code",
   "execution_count": null,
   "id": "0e81f2d3-dcd4-4e20-a03b-5bb64ba8e3a0",
   "metadata": {
    "tags": []
   },
   "outputs": [],
   "source": [
    "client = Minio(\"minio-service.kubeflow.svc.cluster.local:9000\",\n",
    "    access_key=\"minio\",\n",
    "    secret_key=\"minio123\",\n",
    "    secure=False,           \n",
    ")"
   ]
  },
  {
   "cell_type": "code",
   "execution_count": null,
   "id": "dd65419c-d9eb-4e3b-8290-c388cba5252b",
   "metadata": {
    "tags": []
   },
   "outputs": [],
   "source": [
    "type(client)"
   ]
  },
  {
   "cell_type": "code",
   "execution_count": null,
   "id": "490acd9d-ad92-4d55-800d-c0ffa8697da3",
   "metadata": {
    "tags": []
   },
   "outputs": [],
   "source": [
    "bucket_name = \"newtiledb\""
   ]
  },
  {
   "cell_type": "code",
   "execution_count": null,
   "id": "7c9a9322-825d-4881-8f87-4868fbdcbb5c",
   "metadata": {
    "tags": []
   },
   "outputs": [],
   "source": [
    "def upload_files(bucket_name, file_location, client):\n",
    "    found = False  # Initialize 'found' before the try block\n",
    "    try:\n",
    "        found = client.bucket_exists(bucket_name)\n",
    "    except Exception as e:\n",
    "        print(\"error trying to search for MinIO Bucket:\", e)\n",
    "        return  # Return early since we cannot proceed without knowing if the bucket exists\n",
    "\n",
    "    if not found:\n",
    "        try:\n",
    "            client.make_bucket(bucket_name)\n",
    "            print(\"Created bucket\", bucket_name)\n",
    "        except Exception as e:\n",
    "            print(\"Failed to create bucket:\", e)\n",
    "            return  # Return early since we cannot proceed if the bucket cannot be created\n",
    "    else:\n",
    "        print(\"Bucket\", bucket_name, \"exists, we won't attempt to create one\")\n",
    "        \n",
    "    # Ensure the directory exists\n",
    "    if not os.path.isdir(file_location):\n",
    "        print(f\"The directory {file_location} does not exist.\")\n",
    "        return\n",
    "\n",
    "    # Iterate through all files in the directory\n",
    "    for file_name in os.listdir(file_location):\n",
    "        # Construct the full file path\n",
    "        source_file = os.path.join(file_location, file_name)\n",
    "        # Check if it's a file and not a directory\n",
    "        if os.path.isfile(source_file):\n",
    "            try:\n",
    "                # Upload the file\n",
    "                client.fput_object(bucket_name, file_name, source_file)\n",
    "                print(f\"Successfully uploaded {file_name} to bucket {bucket_name}.\")\n",
    "            except Exception as e:\n",
    "                print(f\"Failed to upload {file_name}: {e}\")\n"
   ]
  },
  {
   "cell_type": "code",
   "execution_count": null,
   "id": "096fceeb-e788-463f-88c2-274457020b3b",
   "metadata": {
    "tags": []
   },
   "outputs": [],
   "source": [
    "upload_files(bucket_name,\"documentation\",client)"
   ]
  },
  {
   "cell_type": "code",
   "execution_count": null,
   "id": "6d03425b-a88c-491d-ac01-6abeaa539f93",
   "metadata": {
    "tags": []
   },
   "outputs": [],
   "source": [
    "def load_docs(source_dir: str) -> list:\n",
    "    \"\"\"Load all documents in a the given directory.\"\"\"\n",
    "    fns = glob.glob(os.path.join(source_dir, \"*.txt\"))    \n",
    "    docs = []\n",
    "    for i, fn in enumerate(tqdm(fns, desc=\"Loading documents...\")):\n",
    "        docs.extend(load_doc(fn))\n",
    "\n",
    "    return docs"
   ]
  },
  {
   "cell_type": "code",
   "execution_count": null,
   "id": "b199bb42-c724-44db-9337-f82bb46d6e08",
   "metadata": {
    "tags": []
   },
   "outputs": [],
   "source": [
    "def process_docs(docs: list, chunk_size: int, chunk_overlap: int) -> list:\n",
    "    \"\"\"Load the documents and split them into chunks.\"\"\"\n",
    "    text_splitter = RecursiveCharacterTextSplitter(chunk_size=chunk_size, chunk_overlap=chunk_overlap)\n",
    "    texts = text_splitter.split_documents(docs)\n",
    "    return texts\n"
   ]
  },
  {
   "cell_type": "code",
   "execution_count": null,
   "id": "d873a5b6-44cf-40ed-9456-2237e74d4ebf",
   "metadata": {
    "tags": []
   },
   "outputs": [],
   "source": [
    "documents = process_docs(docs, chunk_size=500, chunk_overlap=0)"
   ]
  },
  {
   "cell_type": "code",
   "execution_count": null,
   "id": "1563720b-7676-43db-8de1-32cb3992e548",
   "metadata": {},
   "outputs": [],
   "source": [
    "docs = load_docs(\"tmp_docs\")"
   ]
  },
  {
   "cell_type": "code",
   "execution_count": 308,
   "id": "34d32689-0c12-4dff-8132-b76e5b95bf90",
   "metadata": {
    "tags": []
   },
   "outputs": [
    {
     "ename": "ModuleNotFoundError",
     "evalue": "No module named 'kserve'",
     "output_type": "error",
     "traceback": [
      "\u001b[0;31m---------------------------------------------------------------------------\u001b[0m",
      "\u001b[0;31mModuleNotFoundError\u001b[0m                       Traceback (most recent call last)",
      "Cell \u001b[0;32mIn[308], line 1\u001b[0m\n\u001b[0;32m----> 1\u001b[0m \u001b[38;5;28;01mimport\u001b[39;00m \u001b[38;5;21;01mkserve\u001b[39;00m\n",
      "\u001b[0;31mModuleNotFoundError\u001b[0m: No module named 'kserve'"
     ]
    }
   ],
   "source": [
    "import kserve"
   ]
  },
  {
   "cell_type": "code",
   "execution_count": 300,
   "id": "2d6144f3-5b2a-4cac-ad82-1d305528fd1d",
   "metadata": {
    "tags": []
   },
   "outputs": [
    {
     "ename": "TileDBError",
     "evalue": "[TileDB::StorageManager] Error: Cannot create group; Group 'file:///home/jovyan/tiledb_index' already exists",
     "output_type": "error",
     "traceback": [
      "\u001b[0;31m---------------------------------------------------------------------------\u001b[0m",
      "\u001b[0;31mTileDBError\u001b[0m                               Traceback (most recent call last)",
      "Cell \u001b[0;32mIn[300], line 1\u001b[0m\n\u001b[0;32m----> 1\u001b[0m db \u001b[38;5;241m=\u001b[39m \u001b[43mTileDB\u001b[49m\u001b[38;5;241;43m.\u001b[39;49m\u001b[43mfrom_documents\u001b[49m\u001b[43m(\u001b[49m\n\u001b[1;32m      2\u001b[0m \u001b[43m    \u001b[49m\u001b[43mdocuments\u001b[49m\u001b[43m,\u001b[49m\u001b[43m \u001b[49m\u001b[43membeddings\u001b[49m\u001b[43m,\u001b[49m\u001b[43m \u001b[49m\u001b[43mindex_uri\u001b[49m\u001b[38;5;241;43m=\u001b[39;49m\u001b[43mindex_name\u001b[49m\u001b[43m,\u001b[49m\u001b[43m \u001b[49m\u001b[43mindex_type\u001b[49m\u001b[38;5;241;43m=\u001b[39;49m\u001b[38;5;124;43m\"\u001b[39;49m\u001b[38;5;124;43mFLAT\u001b[39;49m\u001b[38;5;124;43m\"\u001b[39;49m\u001b[43m)\u001b[49m\n",
      "File \u001b[0;32m/opt/conda/lib/python3.11/site-packages/langchain_core/vectorstores.py:508\u001b[0m, in \u001b[0;36mVectorStore.from_documents\u001b[0;34m(cls, documents, embedding, **kwargs)\u001b[0m\n\u001b[1;32m    506\u001b[0m texts \u001b[38;5;241m=\u001b[39m [d\u001b[38;5;241m.\u001b[39mpage_content \u001b[38;5;28;01mfor\u001b[39;00m d \u001b[38;5;129;01min\u001b[39;00m documents]\n\u001b[1;32m    507\u001b[0m metadatas \u001b[38;5;241m=\u001b[39m [d\u001b[38;5;241m.\u001b[39mmetadata \u001b[38;5;28;01mfor\u001b[39;00m d \u001b[38;5;129;01min\u001b[39;00m documents]\n\u001b[0;32m--> 508\u001b[0m \u001b[38;5;28;01mreturn\u001b[39;00m \u001b[38;5;28;43mcls\u001b[39;49m\u001b[38;5;241;43m.\u001b[39;49m\u001b[43mfrom_texts\u001b[49m\u001b[43m(\u001b[49m\u001b[43mtexts\u001b[49m\u001b[43m,\u001b[49m\u001b[43m \u001b[49m\u001b[43membedding\u001b[49m\u001b[43m,\u001b[49m\u001b[43m \u001b[49m\u001b[43mmetadatas\u001b[49m\u001b[38;5;241;43m=\u001b[39;49m\u001b[43mmetadatas\u001b[49m\u001b[43m,\u001b[49m\u001b[43m \u001b[49m\u001b[38;5;241;43m*\u001b[39;49m\u001b[38;5;241;43m*\u001b[39;49m\u001b[43mkwargs\u001b[49m\u001b[43m)\u001b[49m\n",
      "File \u001b[0;32m/opt/conda/lib/python3.11/site-packages/langchain_community/vectorstores/tiledb.py:702\u001b[0m, in \u001b[0;36mTileDB.from_texts\u001b[0;34m(cls, texts, embedding, metadatas, ids, metric, index_uri, index_type, config, index_timestamp, **kwargs)\u001b[0m\n\u001b[1;32m    700\u001b[0m embeddings \u001b[38;5;241m=\u001b[39m []\n\u001b[1;32m    701\u001b[0m embeddings \u001b[38;5;241m=\u001b[39m embedding\u001b[38;5;241m.\u001b[39membed_documents(texts)\n\u001b[0;32m--> 702\u001b[0m \u001b[38;5;28;01mreturn\u001b[39;00m \u001b[38;5;28;43mcls\u001b[39;49m\u001b[38;5;241;43m.\u001b[39;49m\u001b[43m__from\u001b[49m\u001b[43m(\u001b[49m\n\u001b[1;32m    703\u001b[0m \u001b[43m    \u001b[49m\u001b[43mtexts\u001b[49m\u001b[38;5;241;43m=\u001b[39;49m\u001b[43mtexts\u001b[49m\u001b[43m,\u001b[49m\n\u001b[1;32m    704\u001b[0m \u001b[43m    \u001b[49m\u001b[43membeddings\u001b[49m\u001b[38;5;241;43m=\u001b[39;49m\u001b[43membeddings\u001b[49m\u001b[43m,\u001b[49m\n\u001b[1;32m    705\u001b[0m \u001b[43m    \u001b[49m\u001b[43membedding\u001b[49m\u001b[38;5;241;43m=\u001b[39;49m\u001b[43membedding\u001b[49m\u001b[43m,\u001b[49m\n\u001b[1;32m    706\u001b[0m \u001b[43m    \u001b[49m\u001b[43mmetadatas\u001b[49m\u001b[38;5;241;43m=\u001b[39;49m\u001b[43mmetadatas\u001b[49m\u001b[43m,\u001b[49m\n\u001b[1;32m    707\u001b[0m \u001b[43m    \u001b[49m\u001b[43mids\u001b[49m\u001b[38;5;241;43m=\u001b[39;49m\u001b[43mids\u001b[49m\u001b[43m,\u001b[49m\n\u001b[1;32m    708\u001b[0m \u001b[43m    \u001b[49m\u001b[43mmetric\u001b[49m\u001b[38;5;241;43m=\u001b[39;49m\u001b[43mmetric\u001b[49m\u001b[43m,\u001b[49m\n\u001b[1;32m    709\u001b[0m \u001b[43m    \u001b[49m\u001b[43mindex_uri\u001b[49m\u001b[38;5;241;43m=\u001b[39;49m\u001b[43mindex_uri\u001b[49m\u001b[43m,\u001b[49m\n\u001b[1;32m    710\u001b[0m \u001b[43m    \u001b[49m\u001b[43mindex_type\u001b[49m\u001b[38;5;241;43m=\u001b[39;49m\u001b[43mindex_type\u001b[49m\u001b[43m,\u001b[49m\n\u001b[1;32m    711\u001b[0m \u001b[43m    \u001b[49m\u001b[43mconfig\u001b[49m\u001b[38;5;241;43m=\u001b[39;49m\u001b[43mconfig\u001b[49m\u001b[43m,\u001b[49m\n\u001b[1;32m    712\u001b[0m \u001b[43m    \u001b[49m\u001b[43mindex_timestamp\u001b[49m\u001b[38;5;241;43m=\u001b[39;49m\u001b[43mindex_timestamp\u001b[49m\u001b[43m,\u001b[49m\n\u001b[1;32m    713\u001b[0m \u001b[43m    \u001b[49m\u001b[38;5;241;43m*\u001b[39;49m\u001b[38;5;241;43m*\u001b[39;49m\u001b[43mkwargs\u001b[49m\u001b[43m,\u001b[49m\n\u001b[1;32m    714\u001b[0m \u001b[43m\u001b[49m\u001b[43m)\u001b[49m\n",
      "File \u001b[0;32m/opt/conda/lib/python3.11/site-packages/langchain_community/vectorstores/tiledb.py:536\u001b[0m, in \u001b[0;36mTileDB.__from\u001b[0;34m(cls, texts, embeddings, embedding, index_uri, metadatas, ids, metric, index_type, config, index_timestamp, **kwargs)\u001b[0m\n\u001b[1;32m    534\u001b[0m tiledb_vs, tiledb \u001b[38;5;241m=\u001b[39m dependable_tiledb_import()\n\u001b[1;32m    535\u001b[0m input_vectors \u001b[38;5;241m=\u001b[39m np\u001b[38;5;241m.\u001b[39marray(embeddings)\u001b[38;5;241m.\u001b[39mastype(np\u001b[38;5;241m.\u001b[39mfloat32)\n\u001b[0;32m--> 536\u001b[0m \u001b[38;5;28;43mcls\u001b[39;49m\u001b[38;5;241;43m.\u001b[39;49m\u001b[43mcreate\u001b[49m\u001b[43m(\u001b[49m\n\u001b[1;32m    537\u001b[0m \u001b[43m    \u001b[49m\u001b[43mindex_uri\u001b[49m\u001b[38;5;241;43m=\u001b[39;49m\u001b[43mindex_uri\u001b[49m\u001b[43m,\u001b[49m\n\u001b[1;32m    538\u001b[0m \u001b[43m    \u001b[49m\u001b[43mindex_type\u001b[49m\u001b[38;5;241;43m=\u001b[39;49m\u001b[43mindex_type\u001b[49m\u001b[43m,\u001b[49m\n\u001b[1;32m    539\u001b[0m \u001b[43m    \u001b[49m\u001b[43mdimensions\u001b[49m\u001b[38;5;241;43m=\u001b[39;49m\u001b[43minput_vectors\u001b[49m\u001b[38;5;241;43m.\u001b[39;49m\u001b[43mshape\u001b[49m\u001b[43m[\u001b[49m\u001b[38;5;241;43m1\u001b[39;49m\u001b[43m]\u001b[49m\u001b[43m,\u001b[49m\n\u001b[1;32m    540\u001b[0m \u001b[43m    \u001b[49m\u001b[43mvector_type\u001b[49m\u001b[38;5;241;43m=\u001b[39;49m\u001b[43minput_vectors\u001b[49m\u001b[38;5;241;43m.\u001b[39;49m\u001b[43mdtype\u001b[49m\u001b[43m,\u001b[49m\n\u001b[1;32m    541\u001b[0m \u001b[43m    \u001b[49m\u001b[43mmetadatas\u001b[49m\u001b[38;5;241;43m=\u001b[39;49m\u001b[43mmetadatas\u001b[49m\u001b[43m \u001b[49m\u001b[38;5;129;43;01mis\u001b[39;49;00m\u001b[43m \u001b[49m\u001b[38;5;129;43;01mnot\u001b[39;49;00m\u001b[43m \u001b[49m\u001b[38;5;28;43;01mNone\u001b[39;49;00m\u001b[43m,\u001b[49m\n\u001b[1;32m    542\u001b[0m \u001b[43m    \u001b[49m\u001b[43mconfig\u001b[49m\u001b[38;5;241;43m=\u001b[39;49m\u001b[43mconfig\u001b[49m\u001b[43m,\u001b[49m\n\u001b[1;32m    543\u001b[0m \u001b[43m\u001b[49m\u001b[43m)\u001b[49m\n\u001b[1;32m    544\u001b[0m \u001b[38;5;28;01mwith\u001b[39;00m tiledb\u001b[38;5;241m.\u001b[39mscope_ctx(ctx_or_config\u001b[38;5;241m=\u001b[39mconfig):\n\u001b[1;32m    545\u001b[0m     \u001b[38;5;28;01mif\u001b[39;00m \u001b[38;5;129;01mnot\u001b[39;00m embeddings:\n",
      "File \u001b[0;32m/opt/conda/lib/python3.11/site-packages/langchain_community/vectorstores/tiledb.py:466\u001b[0m, in \u001b[0;36mTileDB.create\u001b[0;34m(cls, index_uri, index_type, dimensions, vector_type, metadatas, config)\u001b[0m\n\u001b[1;32m    464\u001b[0m     tiledb\u001b[38;5;241m.\u001b[39mgroup_create(index_uri)\n\u001b[1;32m    465\u001b[0m \u001b[38;5;28;01mexcept\u001b[39;00m tiledb\u001b[38;5;241m.\u001b[39mTileDBError \u001b[38;5;28;01mas\u001b[39;00m err:\n\u001b[0;32m--> 466\u001b[0m     \u001b[38;5;28;01mraise\u001b[39;00m err\n\u001b[1;32m    467\u001b[0m group \u001b[38;5;241m=\u001b[39m tiledb\u001b[38;5;241m.\u001b[39mGroup(index_uri, \u001b[38;5;124m\"\u001b[39m\u001b[38;5;124mw\u001b[39m\u001b[38;5;124m\"\u001b[39m)\n\u001b[1;32m    468\u001b[0m vector_index_uri \u001b[38;5;241m=\u001b[39m get_vector_index_uri(group\u001b[38;5;241m.\u001b[39muri)\n",
      "File \u001b[0;32m/opt/conda/lib/python3.11/site-packages/langchain_community/vectorstores/tiledb.py:464\u001b[0m, in \u001b[0;36mTileDB.create\u001b[0;34m(cls, index_uri, index_type, dimensions, vector_type, metadatas, config)\u001b[0m\n\u001b[1;32m    462\u001b[0m \u001b[38;5;28;01mwith\u001b[39;00m tiledb\u001b[38;5;241m.\u001b[39mscope_ctx(ctx_or_config\u001b[38;5;241m=\u001b[39mconfig):\n\u001b[1;32m    463\u001b[0m     \u001b[38;5;28;01mtry\u001b[39;00m:\n\u001b[0;32m--> 464\u001b[0m         \u001b[43mtiledb\u001b[49m\u001b[38;5;241;43m.\u001b[39;49m\u001b[43mgroup_create\u001b[49m\u001b[43m(\u001b[49m\u001b[43mindex_uri\u001b[49m\u001b[43m)\u001b[49m\n\u001b[1;32m    465\u001b[0m     \u001b[38;5;28;01mexcept\u001b[39;00m tiledb\u001b[38;5;241m.\u001b[39mTileDBError \u001b[38;5;28;01mas\u001b[39;00m err:\n\u001b[1;32m    466\u001b[0m         \u001b[38;5;28;01mraise\u001b[39;00m err\n",
      "File \u001b[0;32m/opt/conda/lib/python3.11/site-packages/tiledb/group.py:289\u001b[0m, in \u001b[0;36mGroup.create\u001b[0;34m(uri, ctx)\u001b[0m\n\u001b[1;32m    280\u001b[0m \u001b[38;5;250m\u001b[39m\u001b[38;5;124;03m\"\"\"\u001b[39;00m\n\u001b[1;32m    281\u001b[0m \u001b[38;5;124;03mCreate a new Group.\u001b[39;00m\n\u001b[1;32m    282\u001b[0m \n\u001b[0;32m   (...)\u001b[0m\n\u001b[1;32m    286\u001b[0m \u001b[38;5;124;03m:type ctx: tiledb.Ctx\u001b[39;00m\n\u001b[1;32m    287\u001b[0m \u001b[38;5;124;03m\"\"\"\u001b[39;00m\n\u001b[1;32m    288\u001b[0m ctx \u001b[38;5;241m=\u001b[39m ctx \u001b[38;5;129;01mor\u001b[39;00m default_ctx()\n\u001b[0;32m--> 289\u001b[0m \u001b[43mlt\u001b[49m\u001b[38;5;241;43m.\u001b[39;49m\u001b[43mGroup\u001b[49m\u001b[38;5;241;43m.\u001b[39;49m\u001b[43m_create\u001b[49m\u001b[43m(\u001b[49m\u001b[43mctx\u001b[49m\u001b[43m,\u001b[49m\u001b[43m \u001b[49m\u001b[43muri\u001b[49m\u001b[43m)\u001b[49m\n",
      "\u001b[0;31mTileDBError\u001b[0m: [TileDB::StorageManager] Error: Cannot create group; Group 'file:///home/jovyan/tiledb_index' already exists"
     ]
    }
   ],
   "source": [
    "db = TileDB.from_documents(\n",
    "    documents, embeddings, index_uri=index_name, index_type=\"FLAT\")"
   ]
  },
  {
   "cell_type": "code",
   "execution_count": 305,
   "id": "f48fe294-9f07-456a-8d13-8e3a1e15b55e",
   "metadata": {
    "tags": []
   },
   "outputs": [],
   "source": [
    "import os\n",
    "from minio import Minio\n",
    "\n",
    "# Initialize the Minio client (assuming it's already done elsewhere in your code)\n",
    "# client = Minio(\"YOUR_MINIO_ENDPOINT\", access_key=\"YOUR_ACCESS_KEY\", secret_key=\"YOUR_SECRET_KEY\", secure=True)\n",
    "\n",
    "def download_files(bucket_name):\n",
    "    # Ensure the documentation directory exists\n",
    "    target_directory = \"tmp_docs\"\n",
    "    if not os.path.exists(target_directory):\n",
    "        os.makedirs(target_directory)\n",
    "\n",
    "    # List all objects in the bucket\n",
    "    objects = client.list_objects(bucket_name, recursive=True)\n",
    "    for obj in objects:\n",
    "        # Check if the object is a .txt file\n",
    "        if obj.object_name.endswith('.txt'):\n",
    "            # Construct the full path for the file to be downloaded\n",
    "            destination_path = os.path.join(target_directory, obj.object_name)\n",
    "            \n",
    "            # Ensure the subdirectory exists\n",
    "            os.makedirs(os.path.dirname(destination_path), exist_ok=True)\n",
    "            \n",
    "            # Download the object\n",
    "            client.fget_object(bucket_name, obj.object_name, destination_path)\n",
    "            print(f\"Downloaded {obj.object_name} to {destination_path}\")\n",
    "        else:\n",
    "            print(f\"Skipping non-txt file {obj.object_name}\")\n",
    "\n",
    "# Example usage\n",
    "# download_files('your-bucket-name')\n"
   ]
  },
  {
   "cell_type": "code",
   "execution_count": 307,
   "id": "f8bb72d0-01e7-4eb3-9b91-fd2cacd4479a",
   "metadata": {
    "tags": []
   },
   "outputs": [
    {
     "name": "stdout",
     "output_type": "stream",
     "text": [
      "Skipping non-txt file <minio.datatypes.Object object at 0x7c37000622d0>\n",
      "Skipping non-txt file <minio.datatypes.Object object at 0x7c37000627d0>\n",
      "Skipping non-txt file <minio.datatypes.Object object at 0x7c37002249d0>\n",
      "Skipping non-txt file <minio.datatypes.Object object at 0x7c3700225590>\n",
      "Skipping non-txt file <minio.datatypes.Object object at 0x7c37002256d0>\n",
      "Skipping non-txt file <minio.datatypes.Object object at 0x7c3700225990>\n",
      "Downloaded LLM.txt to tmp_docs/LLM.txt\n",
      "Skipping non-txt file __tiledb_group.tdb\n",
      "Downloaded array_db.txt to tmp_docs/array_db.txt\n",
      "Downloaded feature_store.txt to tmp_docs/feature_store.txt\n",
      "Downloaded human_in_loop.txt to tmp_docs/human_in_loop.txt\n",
      "Skipping non-txt file index\n",
      "Downloaded tiledb.txt to tmp_docs/tiledb.txt\n",
      "Downloaded vector_database.txt to tmp_docs/vector_database.txt\n"
     ]
    }
   ],
   "source": [
    "download_files(bucket_name)"
   ]
  },
  {
   "cell_type": "code",
   "execution_count": null,
   "id": "63c486fc-5d58-41d3-9216-be5fa273e1e4",
   "metadata": {
    "tags": []
   },
   "outputs": [],
   "source": [
    "embeddings_model = \"all-MiniLM-L6-v2\"\n",
    "embeddings = HuggingFaceEmbeddings(model_name=embeddings_model)"
   ]
  },
  {
   "cell_type": "code",
   "execution_count": null,
   "id": "61ab14f4-e0c4-47c0-b61c-f7ea52a9daad",
   "metadata": {
    "tags": []
   },
   "outputs": [],
   "source": [
    "query = \"tell me about vector dbs?\"\n",
    "docs = db.similarity_search(query)\n",
    "docs[0].page_content"
   ]
  },
  {
   "cell_type": "code",
   "execution_count": null,
   "id": "e177e914-7ce7-4332-94d5-7327b8bc292c",
   "metadata": {
    "tags": []
   },
   "outputs": [],
   "source": [
    "embedding_vector = embeddings.embed_query(query)\n",
    "docs = db.similarity_search_by_vector(embedding_vector)\n",
    "docs[0].page_content"
   ]
  },
  {
   "cell_type": "code",
   "execution_count": null,
   "id": "e7505751-8575-4dad-be01-9f6bbfb4145b",
   "metadata": {
    "tags": []
   },
   "outputs": [],
   "source": [
    "docs_and_scores = db.similarity_search_with_score(query)\n",
    "docs_and_scores[0]"
   ]
  },
  {
   "cell_type": "code",
   "execution_count": null,
   "id": "564ffd5e-5427-4e6c-ac68-3b8422d4841e",
   "metadata": {
    "tags": []
   },
   "outputs": [],
   "source": [
    "retriever = db.as_retriever(search_type=\"mmr\")\n",
    "retriever.get_relevant_documents(query)"
   ]
  },
  {
   "cell_type": "code",
   "execution_count": null,
   "id": "c963b557-5b67-4023-9aca-7b2ca5f38435",
   "metadata": {
    "tags": []
   },
   "outputs": [],
   "source": [
    "db.max_marginal_relevance_search(query, k=2, fetch_k=10)"
   ]
  },
  {
   "cell_type": "code",
   "execution_count": null,
   "id": "8c39e36f-f5c9-46b8-8cd3-e6789ab13a9e",
   "metadata": {},
   "outputs": [],
   "source": [
    "predictor_image = (input(\"Enter the name of the predictor image (default: dpoulopoulos/qna-vectorstore:v0.1.0): \")\n",
    "                   or \"dpoulopoulos/qna-vectorstore:v0.1.0\")"
   ]
  },
  {
   "cell_type": "code",
   "execution_count": null,
   "id": "bb8a5a12-5d1c-4d6d-9f5f-e2479eed3afb",
   "metadata": {},
   "outputs": [],
   "source": [
    "def encode_base64(message: str):\n",
    "    encoded_bytes = base64.b64encode(message.encode('ASCII'))\n",
    "    return encoded_bytes.decode('ASCII'"
   ]
  },
  {
   "cell_type": "code",
   "execution_count": null,
   "id": "875b68b9-65a9-4b49-a69a-9c261d5b8e36",
   "metadata": {},
   "outputs": [],
   "source": [
    "isvc = \"\"\"\n",
    "apiVersion: v1\n",
    "kind: Secret\n",
    "metadata:\n",
    "  name: minio-secret\n",
    "type: Opaque\n",
    "data:\n",
    "  MINIO_ACCESS_KEY: {0}\n",
    "  MINIO_SECRET_KEY: {1}\n",
    "\n",
    "---\n",
    "apiVersion: serving.kserve.io/v1beta1\n",
    "kind: InferenceService\n",
    "metadata:\n",
    "  name: vectorstore\n",
    "spec:\n",
    "  predictor:\n",
    "    containers:\n",
    "    - name: kserve-container\n",
    "      image: {2}\n",
    "      imagePullPolicy: Always\n",
    "      resources:\n",
    "        requests:\n",
    "          memory: \"2Gi\"\n",
    "          cpu: \"500m\"\n",
    "        limits:\n",
    "          memory: \"2Gi\"\n",
    "          cpu: \"500m\"\n",
    "      args:\n",
    "      - --persist-uri\n",
    "      - {3}\n",
    "      env:\n",
    "      # If you are running behind a proxy, uncomment the following lines and replace the values with your proxy URLs.\n",
    "      # - name: HTTP_PROXY\n",
    "      #   value: <your http proxy URL>\n",
    "      # - name: HTTPS_PROXY\n",
    "      #   value: <your https proxy URL>\n",
    "      # - name: NO_PROXY\n",
    "      #   value: .local\n",
    "      - name: MLFLOW_S3_ENDPOINT_URL\n",
    "        value: {4}\n",
    "      - name: TRANSFORMERS_CACHE\n",
    "        value: /src\n",
    "      - name: SENTENCE_TRANSFORMERS_HOME\n",
    "        value: /src\n",
    "      - name: MINIO_ACCESS_KEY\n",
    "        valueFrom:\n",
    "          secretKeyRef:\n",
    "            key: MINIO_ACCESS_KEY\n",
    "            name: minio-secret\n",
    "      - name: MINIO_SECRET_KEY\n",
    "        valueFrom:\n",
    "          secretKeyRef:\n",
    "            key: MINIO_SECRET_KEY\n",
    "            name: minio-secret\n",
    "\"\"\".format(encode_base64(os.environ[\"AWS_ACCESS_KEY_ID\"]),\n",
    "           encode_base64(os.environ[\"AWS_SECRET_ACCESS_KEY\"]),\n",
    "           predictor_image, uri, os.environ[\"MLFLOW_S3_ENDPOINT_URL\"])\n",
    "\n",
    "with open(\"vectorstore-isvc.yaml\", \"w\") as f:\n",
    "    f.write(isvc)"
   ]
  },
  {
   "cell_type": "code",
   "execution_count": null,
   "id": "ffc6eec3-eb4b-4608-ba32-e5f0e4bdd466",
   "metadata": {},
   "outputs": [],
   "source": [
    "subprocess.run([\"kubectl\", \"apply\", \"-f\", \"vectorstore-isvc.yaml\"])"
   ]
  }
 ],
 "metadata": {
  "kernelspec": {
   "display_name": "Python 3 (ipykernel)",
   "language": "python",
   "name": "python3"
  },
  "language_info": {
   "codemirror_mode": {
    "name": "ipython",
    "version": 3
   },
   "file_extension": ".py",
   "mimetype": "text/x-python",
   "name": "python",
   "nbconvert_exporter": "python",
   "pygments_lexer": "ipython3",
   "version": "3.11.6"
  }
 },
 "nbformat": 4,
 "nbformat_minor": 5
}
