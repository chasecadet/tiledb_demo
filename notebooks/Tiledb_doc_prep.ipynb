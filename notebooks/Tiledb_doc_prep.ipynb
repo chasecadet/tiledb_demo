{
 "cells": [
  {
   "cell_type": "code",
   "execution_count": null,
   "id": "51339a0d-64fe-4aaa-bc41-5f43aa81f82f",
   "metadata": {
    "tags": []
   },
   "outputs": [],
   "source": [
    "!pip install minio"
   ]
  },
  {
   "cell_type": "code",
   "execution_count": null,
   "id": "f35f0324-b068-41f6-86d7-0aae90c3e9a6",
   "metadata": {
    "tags": []
   },
   "outputs": [],
   "source": [
    "import os\n",
    "from minio import Minio\n",
    "import requests"
   ]
  },
  {
   "cell_type": "code",
   "execution_count": null,
   "id": "65a9f4c2-66e8-4681-a55a-eb3594cb295f",
   "metadata": {
    "tags": []
   },
   "outputs": [],
   "source": [
    "client = Minio(\"minio-service.kubeflow.svc.cluster.local:9000\",\n",
    "    access_key=\"minio\",\n",
    "    secret_key=\"minio123\",\n",
    "    secure=False,           \n",
    ")"
   ]
  },
  {
   "cell_type": "code",
   "execution_count": null,
   "id": "dd65419c-d9eb-4e3b-8290-c388cba5252b",
   "metadata": {
    "tags": []
   },
   "outputs": [],
   "source": [
    "type(client)"
   ]
  },
  {
   "cell_type": "code",
   "execution_count": null,
   "id": "490acd9d-ad92-4d55-800d-c0ffa8697da3",
   "metadata": {
    "tags": []
   },
   "outputs": [],
   "source": [
    "bucket_name = \"newtiledb\""
   ]
  },
  {
   "cell_type": "code",
   "execution_count": null,
   "id": "7c9a9322-825d-4881-8f87-4868fbdcbb5c",
   "metadata": {
    "tags": []
   },
   "outputs": [],
   "source": [
    "def upload_files(bucket_name, file_location, client):\n",
    "    found = False  # Initialize 'found' before the try block\n",
    "    print(\"Current working directory:\", os.getcwd())\n",
    "    print(\"Listing directories in the current working directory:\", os.listdir(\".\"))\n",
    "    print(f\"Checking existence of {file_location}: \", os.path.exists(file_location))\n",
    "\n",
    "    try:\n",
    "        found = client.bucket_exists(bucket_name)\n",
    "    except Exception as e:\n",
    "        print(\"error trying to search for MinIO Bucket:\", e)\n",
    "        return  # Return early since we cannot proceed without knowing if the bucket exists\n",
    "\n",
    "    if not found:\n",
    "        try:\n",
    "            client.make_bucket(bucket_name)\n",
    "            print(\"Created bucket\", bucket_name)\n",
    "        except Exception as e:\n",
    "            print(\"Failed to create bucket:\", e)\n",
    "            return  # Return early since we cannot proceed if the bucket cannot be created\n",
    "    else:\n",
    "        print(\"Bucket\", bucket_name, \"exists, we won't attempt to create one\")\n",
    "        \n",
    "    # Ensure the directory exists\n",
    "    if not os.path.isdir(file_location):\n",
    "        print(f\"The directory {file_location} does not exist.\")\n",
    "        return\n",
    "\n",
    "    # Iterate through all files in the directory\n",
    "    for file_name in os.listdir(file_location):\n",
    "        # Construct the full file path\n",
    "        source_file = os.path.join(file_location, file_name)\n",
    "        # Check if it's a file and not a directory\n",
    "        if os.path.isfile(source_file):\n",
    "            try:\n",
    "                # Upload the file\n",
    "                client.fput_object(bucket_name, file_name, source_file)\n",
    "                print(f\"Successfully uploaded {file_name} to bucket {bucket_name}.\")\n",
    "            except Exception as e:\n",
    "                print(f\"Failed to upload {file_name}: {e}\")\n"
   ]
  },
  {
   "cell_type": "code",
   "execution_count": 219,
   "id": "8e5db8c5-b83c-493b-af9a-f85eacd4a034",
   "metadata": {
    "tags": []
   },
   "outputs": [
    {
     "name": "stdout",
     "output_type": "stream",
     "text": [
      "<Response [200]>\n",
      "{\"predictions\":[\"about Kubeflow on Nutanix, see GitHub.\",\"Chapter 4.  The Origin of Kubeflow \\nChapter Introduction\\nChapter Overview\",\"an open source project that welcomes community contributions, suggestions, fixes, and constructive feedback. You can contribute on GitHub and get started by following the instructions in the Canonical Kubeflow documentation.\",\"Kubeflow’s Technical Advantage\",\"Kubeflow on Red Hat OpenShift\",\"consider themselves distributions. These Kubeflow-centric solutions range from purely open source offerings to open core offerings with premium integrations. The community has not officially endorsed any of these distributions yet. Still, based on current in-house skillsets or other considerations, organizations can speak with the distribution maintainers and make educated decisions about how they want to deploy and maintain their Kubeflow environments.\"]}\n"
     ]
    }
   ],
   "source": [
    "data = {\n",
    "  \"instances\": [{\n",
    "    \"input\": \"When was Kubeflow Open-Sourced?\",\n",
    "    \"num_docs\": 6  # number of documents to retrieve\n",
    "  }]\n",
    "}\n",
    "\n",
    "URL = \"http://vectorstore-predictor.christensenc3526.svc.cluster.local/v1/models/vectorstore:predict\"  # Adjust path as necessary\n",
    "\n",
    "response = requests.post(URL, json=data, verify=False)  # 'verify=False' for self-signed certs\n",
    "print(response)\n",
    "#print(response.json())\n",
    "print(response.text)"
   ]
  },
  {
   "cell_type": "code",
   "execution_count": 213,
   "id": "5f40d452-29cf-4693-9a91-8955bae576a4",
   "metadata": {
    "tags": []
   },
   "outputs": [
    {
     "name": "stdout",
     "output_type": "stream",
     "text": [
      "{\"object\":\"list\",\"data\":[{\"id\":\"meta/llama-2-7b-chat\",\"object\":\"model\",\"created\":1738273856,\"owned_by\":\"system\",\"root\":\"meta/llama-2-7b-chat\",\"parent\":null,\"permission\":[{\"id\":\"modelperm-4e4ef512cf0c432b81a0057a7b6488a3\",\"object\":\"model_permission\",\"created\":1738273856,\"allow_create_engine\":false,\"allow_sampling\":true,\"allow_logprobs\":true,\"allow_search_indices\":false,\"allow_view\":true,\"allow_fine_tuning\":false,\"organization\":\"*\",\"group\":null,\"is_blocking\":false}]}]}"
     ]
    }
   ],
   "source": [
    "!curl -X GET http://llm-predictor.christensenc3526.svc.cluster.local/v1/models"
   ]
  },
  {
   "cell_type": "code",
   "execution_count": 214,
   "id": "1385b7cc-fea9-4288-946e-305869b98748",
   "metadata": {
    "tags": []
   },
   "outputs": [
    {
     "name": "stdout",
     "output_type": "stream",
     "text": [
      "{\"models\":[\"llm\"]}"
     ]
    }
   ],
   "source": [
    "!curl -X GET http://llm.christensenc3526.svc.cluster.local/v1/models"
   ]
  },
  {
   "cell_type": "markdown",
   "id": "04323baf-fd2b-4522-91e3-b0fdd6bc5f68",
   "metadata": {
    "tags": []
   },
   "source": [
    "# run this command from your terminal\n",
    "```\n",
    "curl -X POST http://llm-predictor.christensenc3526.svc.cluster.local/v1/chat/completions \\\n",
    "  -H \"Content-Type: application/json\" \\\n",
    "  -d '{\n",
    "    \"model\": \"meta/llama-2-7b-chat\",\n",
    "    \"messages\": [{\"role\": \"user\", \"content\": \"What is KServe?\"}],\n",
    "    \"temperature\": 0.5,\n",
    "    \"top_p\": 1,\n",
    "    \"max_tokens\": 256,\n",
    "    \"stream\": false\n",
    "  }'\n",
    "``` "
   ]
  },
  {
   "cell_type": "code",
   "execution_count": 224,
   "id": "f65b0d34-eeb4-44d3-be3e-98d033db8a58",
   "metadata": {},
   "outputs": [
    {
     "name": "stdout",
     "output_type": "stream",
     "text": [
      "<Response [500]>\n",
      "{\"error\":\"HTTPStatusError : {'detail': 'Not Found'}, '404 Not Found' for url 'http://llm-predictor.christensenc3526/v1/models/llm:predict'\"}\n"
     ]
    }
   ],
   "source": [
    "data = {\n",
    "  \"instances\": [{\n",
    "    \"input\": \"When was Kubeflow Open-Sourced?\",\n",
    "    \"num_docs\": 6  # number of documents to retrieve\n",
    "  }]\n",
    "}\n",
    "\n",
    "URL = \"http://llm.christensenc3526.svc.cluster.local/v1/models/llm:predict\"  # Adjust path as necessary\n",
    "\n",
    "response = requests.post(URL, json=data, verify=False)  # 'verify=False' for self-signed certs\n",
    "print(response)\n",
    "#print(response.json())\n",
    "print(response.text)"
   ]
  },
  {
   "cell_type": "code",
   "execution_count": null,
   "id": "6d4b3e9c-9998-4049-875a-98c84f244ef7",
   "metadata": {},
   "outputs": [],
   "source": [
    "this works "
   ]
  },
  {
   "cell_type": "code",
   "execution_count": null,
   "id": "b0d8fbb1-234d-4ac6-bef7-69752c2d1e21",
   "metadata": {},
   "outputs": [],
   "source": []
  }
 ],
 "metadata": {
  "kernelspec": {
   "display_name": "Python 3 (ipykernel)",
   "language": "python",
   "name": "python3"
  },
  "language_info": {
   "codemirror_mode": {
    "name": "ipython",
    "version": 3
   },
   "file_extension": ".py",
   "mimetype": "text/x-python",
   "name": "python",
   "nbconvert_exporter": "python",
   "pygments_lexer": "ipython3",
   "version": "3.11.6"
  }
 },
 "nbformat": 4,
 "nbformat_minor": 5
}
