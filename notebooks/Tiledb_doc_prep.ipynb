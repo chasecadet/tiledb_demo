{
 "cells": [
  {
   "cell_type": "code",
   "execution_count": 74,
   "id": "f35f0324-b068-41f6-86d7-0aae90c3e9a6",
   "metadata": {
    "tags": []
   },
   "outputs": [],
   "source": [
    "import os\n",
    "from minio import Minio\n",
    "import requests"
   ]
  },
  {
   "cell_type": "code",
   "execution_count": 75,
   "id": "65a9f4c2-66e8-4681-a55a-eb3594cb295f",
   "metadata": {},
   "outputs": [],
   "source": [
    "client = Minio(\"minio-service.kubeflow.svc.cluster.local:9000\",\n",
    "    access_key=\"minio\",\n",
    "    secret_key=\"minio123\",\n",
    "    secure=False,           \n",
    ")"
   ]
  },
  {
   "cell_type": "code",
   "execution_count": 76,
   "id": "dd65419c-d9eb-4e3b-8290-c388cba5252b",
   "metadata": {
    "tags": []
   },
   "outputs": [
    {
     "data": {
      "text/plain": [
       "minio.api.Minio"
      ]
     },
     "execution_count": 76,
     "metadata": {},
     "output_type": "execute_result"
    }
   ],
   "source": [
    "type(client)"
   ]
  },
  {
   "cell_type": "code",
   "execution_count": 77,
   "id": "490acd9d-ad92-4d55-800d-c0ffa8697da3",
   "metadata": {
    "tags": []
   },
   "outputs": [],
   "source": [
    "bucket_name = \"newtiledb\""
   ]
  },
  {
   "cell_type": "code",
   "execution_count": 78,
   "id": "7c9a9322-825d-4881-8f87-4868fbdcbb5c",
   "metadata": {
    "tags": []
   },
   "outputs": [],
   "source": [
    "def upload_files(bucket_name, file_location, client):\n",
    "    found = False  # Initialize 'found' before the try block\n",
    "    print(\"Current working directory:\", os.getcwd())\n",
    "    print(\"Listing directories in the current working directory:\", os.listdir(\".\"))\n",
    "    print(f\"Checking existence of {file_location}: \", os.path.exists(file_location))\n",
    "\n",
    "    try:\n",
    "        found = client.bucket_exists(bucket_name)\n",
    "    except Exception as e:\n",
    "        print(\"error trying to search for MinIO Bucket:\", e)\n",
    "        return  # Return early since we cannot proceed without knowing if the bucket exists\n",
    "\n",
    "    if not found:\n",
    "        try:\n",
    "            client.make_bucket(bucket_name)\n",
    "            print(\"Created bucket\", bucket_name)\n",
    "        except Exception as e:\n",
    "            print(\"Failed to create bucket:\", e)\n",
    "            return  # Return early since we cannot proceed if the bucket cannot be created\n",
    "    else:\n",
    "        print(\"Bucket\", bucket_name, \"exists, we won't attempt to create one\")\n",
    "        \n",
    "    # Ensure the directory exists\n",
    "    if not os.path.isdir(file_location):\n",
    "        print(f\"The directory {file_location} does not exist.\")\n",
    "        return\n",
    "\n",
    "    # Iterate through all files in the directory\n",
    "    for file_name in os.listdir(file_location):\n",
    "        # Construct the full file path\n",
    "        source_file = os.path.join(file_location, file_name)\n",
    "        # Check if it's a file and not a directory\n",
    "        if os.path.isfile(source_file):\n",
    "            try:\n",
    "                # Upload the file\n",
    "                client.fput_object(bucket_name, file_name, source_file)\n",
    "                print(f\"Successfully uploaded {file_name} to bucket {bucket_name}.\")\n",
    "            except Exception as e:\n",
    "                print(f\"Failed to upload {file_name}: {e}\")\n"
   ]
  },
  {
   "cell_type": "code",
   "execution_count": 84,
   "id": "096fceeb-e788-463f-88c2-274457020b3b",
   "metadata": {
    "tags": []
   },
   "outputs": [
    {
     "name": "stdout",
     "output_type": "stream",
     "text": [
      "Current working directory: /home/jovyan\n",
      "Listing directories in the current working directory: ['tmp_docs', '.gitconfig', '.mc', 'lost+found', '.local', '.conda', '.cache', '.bashrc', 'tiledb_demo', 'minio-binaries', '.ipynb_checkpoints', 'ezua-tutorials', 'tiledb_index', '.ipython', '.kube', '.jupyter', 'db_index.zip', '.bash_history']\n",
      "Checking existence of tiledb_demo/notebooks/documentation:  True\n",
      "Bucket newtiledb exists, we won't attempt to create one\n",
      "Successfully uploaded tiledb_vector.txt to bucket newtiledb.\n",
      "Successfully uploaded vector_database.txt to bucket newtiledb.\n",
      "Successfully uploaded tiledb.txt to bucket newtiledb.\n",
      "Successfully uploaded why_tile_blog.txt to bucket newtiledb.\n",
      "Successfully uploaded RAG.txt to bucket newtiledb.\n",
      "Successfully uploaded array_db.txt to bucket newtiledb.\n",
      "Successfully uploaded human_in_loop.txt to bucket newtiledb.\n",
      "Successfully uploaded embedding.txt to bucket newtiledb.\n",
      "Successfully uploaded feature_store.txt to bucket newtiledb.\n",
      "Successfully uploaded LLM.txt to bucket newtiledb.\n"
     ]
    }
   ],
   "source": [
    "upload_files(bucket_name,\"tiledb_demo/notebooks/documentation\",client)"
   ]
  },
  {
   "cell_type": "code",
   "execution_count": null,
   "id": "d8fd4896-dead-40a2-977b-1db044cb7ec0",
   "metadata": {},
   "outputs": [],
   "source": []
  },
  {
   "cell_type": "code",
   "execution_count": null,
   "id": "f33c4897-feeb-4499-bcca-977cb44f0949",
   "metadata": {},
   "outputs": [],
   "source": []
  },
  {
   "cell_type": "code",
   "execution_count": 107,
   "id": "8e5db8c5-b83c-493b-af9a-f85eacd4a034",
   "metadata": {
    "tags": []
   },
   "outputs": [
    {
     "name": "stdout",
     "output_type": "stream",
     "text": [
      "<Response [200]>\n",
      "{\"predictions\":[\"In summary, TileDB's architecture and features make it an excellent choice for managing vector data, especially in scenarios requiring scalability, performance, and flexibility in data management. Its ability to handle various data types, combined with efficient storage, querying capabilities, and cloud-native support, positions it as a versatile and powerful vector store solution.\",\"TileDB is an array database, and its main strength is that it can morph into practically any data modality and application, delivering unprecedented performance and alleviating the data infrastructure in an organization. A vector is simply a 1D array, therefore, TileDB is the most natural database choice for delivering amazing vector search functionality.\",\"TileDB is designed as a universal data management solution, which means it can handle a wide variety of data types, including tabular, sparse, and dense multi-dimensional array data. When considering TileDB as a vector store, several features and characteristics make it a strong candidate:\",\"I am assuming that you find all this awesome, but I bet you’d like to see how TileDB compares to the increasingly crowded vector database market, as well as where this leads, with TileDB being a universal database and all. Read on! :)\\nDifferentiation of TileDB\"]}\n"
     ]
    }
   ],
   "source": [
    "data = {\n",
    "  \"instances\": [{\n",
    "    \"input\": \"What makes tiledb a good vector store?\",\n",
    "    \"num_docs\": 4  # number of documents to retrieve\n",
    "  }]\n",
    "}\n",
    "\n",
    "URL = \"http://vectorstore-predictor.christensenc3526.svc.cluster.local/v1/models/vectorstore:predict\"  # Adjust path as necessary\n",
    "\n",
    "response = requests.post(URL, json=data, verify=False)  # 'verify=False' for self-signed certs\n",
    "print(response)\n",
    "#print(response.json())\n",
    "print(response.text)"
   ]
  },
  {
   "cell_type": "code",
   "execution_count": 113,
   "id": "0ceb5821-adec-4804-b029-62f6000ef01c",
   "metadata": {
    "tags": []
   },
   "outputs": [],
   "source": [
    "URL = URL = \"http://llm-transformer.christensenc3526.svc.cluster.local/v1/models/llm:predict\""
   ]
  },
  {
   "cell_type": "code",
   "execution_count": 114,
   "id": "e2560e8f-1d9f-4016-8b97-d1d226a1bce9",
   "metadata": {
    "tags": []
   },
   "outputs": [],
   "source": [
    "data = {\n",
    "  \"instances\": [{\n",
    "      \"system\": \"You are an AI assistant. You will be given a task. You must generate a detailed answer.\",\n",
    "      \"instruction\": \"Use the following pieces of context to answer the question at the end. If you don't know the answer, just say that you don't know, don't try to make up an answer.\",\n",
    "      \"input\": \"what part of tiledbs architecture makes it a good choice for a vectorstore?\",\n",
    "      \"max_tokens\": 5000,\n",
    "      \"top_k\": 100,\n",
    "      \"top_p\": 0.4,\n",
    "      \"num_docs\": 3,\n",
    "      \"temperature\": 0.2\n",
    "  }]\n",
    "}\n",
    "response = requests.post(URL, json=data,verify=False)"
   ]
  },
  {
   "cell_type": "code",
   "execution_count": 115,
   "id": "eb3fc990-6a89-4fe6-b4bb-772c0015723a",
   "metadata": {
    "tags": []
   },
   "outputs": [
    {
     "name": "stdout",
     "output_type": "stream",
     "text": [
      "<Response [200]>\n",
      "{\"predictions\":[\"TileDB's architecture and features make it an excellent choice for managing vector data due to its ability to handle various data types, efficient storage, querying capabilities, and cloud-native support. TileDB is designed as a universal data management solution that can handle tabular, sparse, and dense multi-dimensional array data, making it the most natural database choice for delivering amazing vector search functionality. Additionally, TileDB's ability to morph into practically any data modality and application makes it a versatile and powerful vector store solution. Therefore, TileDB is an excellent choice for managing vector data in scenarios requiring scalability, performance, and flexibility in data management.\"]}\n"
     ]
    }
   ],
   "source": [
    "print(response)\n",
    "#print(response.json())\n",
    "print(response.text)"
   ]
  },
  {
   "cell_type": "code",
   "execution_count": null,
   "id": "f65b0d34-eeb4-44d3-be3e-98d033db8a58",
   "metadata": {},
   "outputs": [],
   "source": []
  }
 ],
 "metadata": {
  "kernelspec": {
   "display_name": "Python 3 (ipykernel)",
   "language": "python",
   "name": "python3"
  },
  "language_info": {
   "codemirror_mode": {
    "name": "ipython",
    "version": 3
   },
   "file_extension": ".py",
   "mimetype": "text/x-python",
   "name": "python",
   "nbconvert_exporter": "python",
   "pygments_lexer": "ipython3",
   "version": "3.11.6"
  }
 },
 "nbformat": 4,
 "nbformat_minor": 5
}
